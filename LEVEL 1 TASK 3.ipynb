{
 "cells": [
  {
   "cell_type": "code",
   "execution_count": 1,
   "id": "2efc3954",
   "metadata": {},
   "outputs": [],
   "source": [
    "import pandas as pd\n",
    "import matplotlib.pyplot as plt"
   ]
  },
  {
   "cell_type": "code",
   "execution_count": 2,
   "id": "720c95ca",
   "metadata": {},
   "outputs": [],
   "source": [
    "dataset = pd.read_csv('Dataset.csv')"
   ]
  },
  {
   "cell_type": "code",
   "execution_count": 3,
   "id": "68481c97",
   "metadata": {},
   "outputs": [],
   "source": [
    "price_range_counts = dataset['Price range'].value_counts().sort_index()"
   ]
  },
  {
   "cell_type": "code",
   "execution_count": 4,
   "id": "1beaf58a",
   "metadata": {},
   "outputs": [],
   "source": [
    "total_restaurants = len(dataset)\n",
    "percentage_per_price_range = (price_range_counts / total_restaurants) * 100"
   ]
  },
  {
   "cell_type": "code",
   "execution_count": 5,
   "id": "3ba97b75",
   "metadata": {},
   "outputs": [
    {
     "data": {
      "image/png": "[encoded data removed]",
      "text/plain": [
       "<Figure size 432x288 with 1 Axes>"
      ]
     },
     "metadata": {
      "needs_background": "light"
     },
     "output_type": "display_data"
    }
   ],
   "source": [
    "plt.bar(price_range_counts.index, price_range_counts.values)\n",
    "plt.xlabel('Price Range')\n",
    "plt.ylabel('Count')\n",
    "plt.title('Distribution of Price Ranges')\n",
    "plt.show()"
   ]
  },
  {
   "cell_type": "code",
   "execution_count": 6,
   "id": "f808573f",
   "metadata": {},
   "outputs": [
    {
     "name": "stdout",
     "output_type": "stream",
     "text": [
      "Percentage of restaurants in each price range category:\n",
      "1    46.529159\n",
      "2    32.593446\n",
      "3    14.741912\n",
      "4     6.135483\n",
      "Name: Price range, dtype: float64\n"
     ]
    }
   ],
   "source": [
    "print(\"Percentage of restaurants in each price range category:\")\n",
    "print(percentage_per_price_range)"
   ]
  }
 ],
 "metadata": {
  "kernelspec": {
   "display_name": "Python 3 (ipykernel)",
   "language": "python",
   "name": "python3"
  },
  "language_info": {
   "codemirror_mode": {
    "name": "ipython",
    "version": 3
   },
   "file_extension": ".py",
   "mimetype": "text/x-python",
   "name": "python",
   "nbconvert_exporter": "python",
   "pygments_lexer": "ipython3",
   "version": "3.9.7"
  }
 },
 "nbformat": 4,
 "nbformat_minor": 5
}
