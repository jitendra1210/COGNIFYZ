{
 "cells": [
  {
   "cell_type": "code",
   "execution_count": 1,
   "id": "3bab3513",
   "metadata": {},
   "outputs": [],
   "source": [
    "import pandas as pd\n",
    "import matplotlib.pyplot as plt"
   ]
  },
  {
   "cell_type": "code",
   "execution_count": 2,
   "id": "b2158e6d",
   "metadata": {},
   "outputs": [],
   "source": [
    "dataset = pd.read_csv('Dataset.csv')"
   ]
  },
  {
   "cell_type": "code",
   "execution_count": 3,
   "id": "a267feb6",
   "metadata": {},
   "outputs": [],
   "source": [
    "aggregate_ratings = dataset['Aggregate rating']\n",
    "rating_counts = aggregate_ratings.value_counts().sort_index()"
   ]
  },
  {
   "cell_type": "code",
   "execution_count": 4,
   "id": "d3cc5487",
   "metadata": {},
   "outputs": [
    {
     "name": "stdout",
     "output_type": "stream",
     "text": [
      "Most common rating range: 0.0\n"
     ]
    }
   ],
   "source": [
    "most_common_rating_range = rating_counts.idxmax()\n",
    "\n",
    "print(\"Most common rating range:\", most_common_rating_range)"
   ]
  },
  {
   "cell_type": "code",
   "execution_count": 5,
   "id": "f68ace95",
   "metadata": {},
   "outputs": [
    {
     "name": "stdout",
     "output_type": "stream",
     "text": [
      "Average number of votes received by restaurants: 156.909747670401\n"
     ]
    }
   ],
   "source": [
    "average_votes = dataset['Votes'].mean()\n",
    "\n",
    "print(\"Average number of votes received by restaurants:\", average_votes)"
   ]
  },
  {
   "cell_type": "code",
   "execution_count": 6,
   "id": "81fa9da4",
   "metadata": {},
   "outputs": [
    {
     "data": {
      "image/png": "[encoded data removed]",
      "text/plain": [
       "<Figure size 432x288 with 1 Axes>"
      ]
     },
     "metadata": {
      "needs_background": "light"
     },
     "output_type": "display_data"
    }
   ],
   "source": [
    "plt.hist(aggregate_ratings, bins=20, edgecolor='black')\n",
    "plt.xlabel('Aggregate Rating')\n",
    "plt.ylabel('Frequency')\n",
    "plt.title('Distribution of Aggregate Ratings')\n",
    "plt.show()"
   ]
  }
 ],
 "metadata": {
  "kernelspec": {
   "display_name": "Python 3 (ipykernel)",
   "language": "python",
   "name": "python3"
  },
  "language_info": {
   "codemirror_mode": {
    "name": "ipython",
    "version": 3
   },
   "file_extension": ".py",
   "mimetype": "text/x-python",
   "name": "python",
   "nbconvert_exporter": "python",
   "pygments_lexer": "ipython3",
   "version": "3.9.7"
  }
 },
 "nbformat": 4,
 "nbformat_minor": 5
}
